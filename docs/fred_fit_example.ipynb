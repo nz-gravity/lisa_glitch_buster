{
 "cells": [
  {
   "cell_type": "markdown",
   "source": [
    "# Fit a FRED\n",
    "\n",
    "\n",
    "A FRED (fast rise, exponential decay) pulse is a common model for glitches in LISA data. \n",
    "Here we show how to fit a FRED pulse to some synthetic data. \n",
    "\n",
    "We use the following parameterisation of the FRED equation:\n",
    "\n",
    "$ S(t|A,\\Delta,\\tau,\\xi) = A \\exp \\left[ - \\xi \\left(\n",
    "        \\frac{t - \\Delta}{\\tau} + \\frac{\\tau}{t-\\Delta}  \\right) -2  \\right]$\n",
    "\n",
    "\n",
    "\n",
    "Where \n",
    "- $A$ (the scale) multiplies the entire expression, controlling the overall amplitude, \n",
    "- $\\Delta$ (the start) is the time at which the pulse begins, and\n",
    "- $\\tau$ is the duration, and\n",
    "- $\\xi$ is the asymmetry parameter \n",
    "\n",
    "\n",
    "The exponential term $\\exp(...)$ creates the pulse shape:\n",
    "- $-\\xi$` in front of the parentheses controls the overall decay rate and asymmetry.\n",
    "- $(\\tau / (t - \\Delta))$ contributes to the initial rise of the pulse.\n",
    "- $((t - \\Delta) / \\tau)$ contributes to the later decay of the pulse.\n",
    "- The -2.0 term helps normalize the pulse shape.\n",
    "\n",
    "The interplay between $\\tau$ and $\\xi$ determines the specific shape of the pulse:\n",
    "- Larger $\\tau$ values result in a wider pulse.\n",
    "- Larger $\\xi$ values make the pulse more asymmetric, with a faster rise and slower decay.\n",
    "\n",
    "<video src=\"_static/FREDPulseAnimation.mp4\"></video>\n"
   ],
   "metadata": {
    "collapsed": false
   },
   "id": "2b66b9157402abc1"
  },
  {
   "metadata": {},
   "cell_type": "markdown",
   "source": [
    "We will generate some synthetic data with a FRED pulse and then fit a FRED pulse to the data.\n",
    "\n",
    "## SNR ~ 1000"
   ],
   "id": "7ce5212993fa8327"
  },
  {
   "cell_type": "code",
   "outputs": [],
   "source": [
    "%load_ext autoreload\n",
    "%autoreload 2\n",
    "\n",
    "import numpy as np\n",
    "\n",
    "from lisa_glitch_buster.backend.model import FRED_pulse\n",
    "from lisa_glitch_buster.glitch_fitter_bilby import GlitchFitter\n",
    "\n",
    "np.random.seed(0)\n",
    "\n",
    "T_START, T_END = 0, 10\n",
    "OUTDIR = \"outdir_glitch_pe\"\n",
    "\n",
    "def generate_dataset(N, injection_params):\n",
    "    times = np.linspace(T_START, T_END, N)\n",
    "    # white noise\n",
    "    noise = np.random.normal(0, injection_params['sigma'], N)\n",
    "    # inject a FRED pulse\n",
    "    pulse = FRED_pulse(times, **injection_params)\n",
    "    data = pulse + noise\n",
    "    return data, times\n",
    "\n",
    "\n",
    "true_params = {\n",
    "    \"start\": 2,\n",
    "    \"scale\": 100,\n",
    "    \"tau\": 1,\n",
    "    \"xi\": 1,\n",
    "    \"sigma\": 1\n",
    "}\n",
    "\n",
    "data, times = generate_dataset(1000, true_params)\n",
    "\n",
    "\n",
    "fitter = GlitchFitter(\n",
    "    data=data,\n",
    "    times=times,\n",
    "    trigger_time=true_params[\"start\"],\n",
    "    model=\"FRED_pulse\",\n",
    "    injection_parameters=true_params,\n",
    "    outdir=OUTDIR,\n",
    ")\n",
    "_ = fitter.plot(save_fn=f\"{OUTDIR}/data.png\")\n"
   ],
   "metadata": {
    "collapsed": false
   },
   "id": "fa76722c86d05944",
   "execution_count": null
  },
  {
   "cell_type": "markdown",
   "source": [
    "![](outdir_glitch_pe/data.png)"
   ],
   "metadata": {
    "collapsed": false
   },
   "id": "f84de16a0426517"
  },
  {
   "cell_type": "markdown",
   "source": [
    "## SNR ~ 20"
   ],
   "metadata": {
    "collapsed": false
   },
   "id": "6691a305f5c9990f"
  },
  {
   "cell_type": "code",
   "outputs": [],
   "source": [
    "res = fitter.run_sampler(\n",
    "    plot=True,\n",
    "    sampler=\"dynesty\",\n",
    "    clean=True,\n",
    ")\n"
   ],
   "metadata": {
    "collapsed": false
   },
   "id": "bc359f5714ade89b",
   "execution_count": null
  },
  {
   "cell_type": "markdown",
   "source": [
    "![](outdir_glitch_pe/glitch_fit_corner.png)\n",
    "```"
   ],
   "metadata": {
    "collapsed": false
   },
   "id": "1a4ba9e695abe1c9"
  },
  {
   "cell_type": "code",
   "outputs": [],
   "source": [
    "true_params = {\n",
    "    \"start\": 2,\n",
    "    \"scale\": 2,\n",
    "    \"tau\": 1,\n",
    "    \"xi\": 1,\n",
    "    \"sigma\": 0.5\n",
    "}\n",
    "\n",
    "data, times = generate_dataset(1000, true_params)\n",
    "\n",
    "OUTDIR = \"outdir_glitch_pe_small\"\n",
    "fitter = GlitchFitter(\n",
    "    data=data,\n",
    "    times=times,\n",
    "    trigger_time=true_params[\"start\"],\n",
    "    model=\"FRED_pulse\",\n",
    "    injection_parameters=true_params,\n",
    "    outdir=OUTDIR,\n",
    ")\n",
    "res = fitter.run_sampler(\n",
    "    plot=True,\n",
    "    sampler=\"dynesty\",\n",
    "    clean=True,\n",
    ")\n",
    "\n"
   ],
   "metadata": {
    "collapsed": false
   },
   "id": "9bb09a86a91c01e",
   "execution_count": null
  },
  {
   "cell_type": "code",
   "outputs": [],
   "source": [
    "ax = fitter.plot()\n",
    "ax.get_figure().savefig(f\"{OUTDIR}/glitch_fit.png\")\n",
    "fitter.plot_corner(f\"{OUTDIR}/corner.png\")"
   ],
   "metadata": {
    "collapsed": false
   },
   "id": "27836b964fb566c8",
   "execution_count": null
  },
  {
   "cell_type": "markdown",
   "source": [
    "![](outdir_glitch_pe_small/glitch_fit.png)\n",
    "![](outdir_glitch_pe_small/corner.png)"
   ],
   "metadata": {
    "collapsed": false
   },
   "id": "78c603658b0a1b33"
  }
 ],
 "metadata": {
  "kernelspec": {
   "display_name": "Python 3",
   "language": "python",
   "name": "python3"
  },
  "language_info": {
   "codemirror_mode": {
    "name": "ipython",
    "version": 2
   },
   "file_extension": ".py",
   "mimetype": "text/x-python",
   "name": "python",
   "nbconvert_exporter": "python",
   "pygments_lexer": "ipython2",
   "version": "2.7.6"
  }
 },
 "nbformat": 4,
 "nbformat_minor": 5
}
