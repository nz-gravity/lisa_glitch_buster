{
 "cells": [
  {
   "cell_type": "markdown",
   "source": [
    "# Fit a FRED\n",
    "\n",
    "## SNR ~ 1000"
   ],
   "metadata": {
    "collapsed": false
   },
   "id": "2b66b9157402abc1"
  },
  {
   "cell_type": "code",
   "outputs": [],
   "source": [
    "%load_ext autoreload\n",
    "%autoreload 2\n",
    "\n",
    "import numpy as np\n",
    "\n",
    "from lisa_glitch_buster.backend.model import FRED_pulse\n",
    "from lisa_glitch_buster.glitch_fitter import GlitchFitter\n",
    "\n",
    "np.random.seed(0)\n",
    "\n",
    "T_START, T_END = 0, 10\n",
    "OUTDIR = \"outdir_glitch_pe\"\n",
    "\n",
    "def generate_dataset(N, injection_params):\n",
    "    times = np.linspace(T_START, T_END, N)\n",
    "    # white noise\n",
    "    noise = np.random.normal(0, injection_params['sigma'], N)\n",
    "    # inject a FRED pulse\n",
    "    pulse = FRED_pulse(times, **injection_params)\n",
    "    data = pulse + noise\n",
    "    return data, times\n",
    "\n",
    "\n",
    "true_params = {\n",
    "    \"start\": 2,\n",
    "    \"scale\": 100,\n",
    "    \"tau\": 1,\n",
    "    \"xi\": 1,\n",
    "    \"sigma\": 1\n",
    "}\n",
    "\n",
    "data, times = generate_dataset(1000, true_params)\n",
    "\n",
    "\n",
    "fitter = GlitchFitter(\n",
    "    data=data,\n",
    "    times=times,\n",
    "    trigger_time=true_params[\"start\"],\n",
    "    model=\"FRED_pulse\",\n",
    "    injection_parameters=true_params,\n",
    "    outdir=OUTDIR,\n",
    ")\n",
    "_ = fitter.plot(save_fn=f\"{OUTDIR}/data.png\")\n"
   ],
   "metadata": {
    "collapsed": false
   },
   "id": "fa76722c86d05944",
   "execution_count": null
  },
  {
   "cell_type": "markdown",
   "source": [
    "![](outdir_glitch_pe/data.png)"
   ],
   "metadata": {
    "collapsed": false
   },
   "id": "f84de16a0426517"
  },
  {
   "cell_type": "markdown",
   "source": [
    "## SNR ~ 20"
   ],
   "metadata": {
    "collapsed": false
   },
   "id": "6691a305f5c9990f"
  },
  {
   "cell_type": "code",
   "outputs": [],
   "source": [
    "res = fitter.run_sampler(\n",
    "    plot=True,\n",
    "    sampler=\"dynesty\",\n",
    "    clean=True,\n",
    ")\n"
   ],
   "metadata": {
    "collapsed": false
   },
   "id": "bc359f5714ade89b",
   "execution_count": null
  },
  {
   "cell_type": "markdown",
   "source": [
    "![](outdir_glitch_pe/glitch_fit_corner.png)\n",
    "```"
   ],
   "metadata": {
    "collapsed": false
   },
   "id": "1a4ba9e695abe1c9"
  },
  {
   "cell_type": "code",
   "outputs": [],
   "source": [
    "true_params = {\n",
    "    \"start\": 2,\n",
    "    \"scale\": 2,\n",
    "    \"tau\": 1,\n",
    "    \"xi\": 1,\n",
    "    \"sigma\": 0.5\n",
    "}\n",
    "\n",
    "data, times = generate_dataset(1000, true_params)\n",
    "\n",
    "OUTDIR = \"outdir_glitch_pe_small\"\n",
    "fitter = GlitchFitter(\n",
    "    data=data,\n",
    "    times=times,\n",
    "    trigger_time=true_params[\"start\"],\n",
    "    model=\"FRED_pulse\",\n",
    "    injection_parameters=true_params,\n",
    "    outdir=OUTDIR,\n",
    ")\n",
    "res = fitter.run_sampler(\n",
    "    plot=True,\n",
    "    sampler=\"dynesty\",\n",
    "    clean=True,\n",
    ")\n",
    "\n"
   ],
   "metadata": {
    "collapsed": false
   },
   "id": "9bb09a86a91c01e",
   "execution_count": null
  },
  {
   "cell_type": "code",
   "outputs": [],
   "source": [
    "ax = fitter.plot()\n",
    "ax.get_figure().savefig(f\"{OUTDIR}/glitch_fit.png\")\n",
    "fitter.plot_corner(f\"{OUTDIR}/corner.png\")"
   ],
   "metadata": {
    "collapsed": false
   },
   "id": "27836b964fb566c8",
   "execution_count": null
  },
  {
   "cell_type": "markdown",
   "source": [
    "![](outdir_glitch_pe_small/glitch_fit.png)\n",
    "![](outdir_glitch_pe_small/corner.png)"
   ],
   "metadata": {
    "collapsed": false
   },
   "id": "78c603658b0a1b33"
  }
 ],
 "metadata": {
  "kernelspec": {
   "display_name": "Python 3",
   "language": "python",
   "name": "python3"
  },
  "language_info": {
   "codemirror_mode": {
    "name": "ipython",
    "version": 2
   },
   "file_extension": ".py",
   "mimetype": "text/x-python",
   "name": "python",
   "nbconvert_exporter": "python",
   "pygments_lexer": "ipython2",
   "version": "2.7.6"
  }
 },
 "nbformat": 4,
 "nbformat_minor": 5
}
